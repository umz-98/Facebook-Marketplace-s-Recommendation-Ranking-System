{
 "cells": [
  {
   "cell_type": "code",
   "execution_count": 9,
   "metadata": {},
   "outputs": [
    {
     "name": "stderr",
     "output_type": "stream",
     "text": [
      "/var/folders/g2/zwqkmzwj2vs3pv8rydkch4m40000gn/T/ipykernel_3660/258722780.py:8: DeprecationWarning: ANTIALIAS is deprecated and will be removed in Pillow 10 (2023-07-01). Use Resampling.LANCZOS instead.\n",
      "  im = im.resize(new_image_size, Image.ANTIALIAS)\n"
     ]
    }
   ],
   "source": [
    "from PIL import Image\n",
    "import os\n",
    "\n",
    "def resize_image(final_size, im):\n",
    "    size = im.size\n",
    "    ratio = float(final_size) / max(size)\n",
    "    new_image_size = tuple([int(x*ratio) for x in size])\n",
    "    im = im.resize(new_image_size, Image.ANTIALIAS)\n",
    "    new_im = Image.new(\"RGB\", (final_size, final_size))\n",
    "    new_im.paste(im, ((final_size-new_image_size[0])//2, (final_size-new_image_size[1])//2))\n",
    "    return new_im\n",
    "\n",
    "if __name__ == '__main__':\n",
    "    path = \"/Users/FKhan/Documents/Aicore/Facebook-Marketplace-s-Recommendation-Ranking-System/Facebook-Marketplace-s-Recommendation-Ranking-System/Images/\"\n",
    "    dirs = os.listdir(path)\n",
    "    final_size = 512\n",
    "    for n, item in enumerate(dirs[:5], 1):\n",
    "        im = Image.open('/Users/FKhan/Documents/Aicore/Facebook-Marketplace-s-Recommendation-Ranking-System/Facebook-Marketplace-s-Recommendation-Ranking-System/Images/' + item)\n",
    "        new_im = resize_image(final_size, im)\n",
    "        new_im.save(f'/Users/FKhan/Documents/Aicore/Facebook-Marketplace-s-Recommendation-Ranking-System/Facebook-Marketplace-s-Recommendation-Ranking-System/Cleaned_Images/{n}_resized.jpg')"
   ]
  },
  {
   "cell_type": "code",
   "execution_count": 19,
   "metadata": {},
   "outputs": [],
   "source": [
    "import requests\n",
    "url = 'https://aicore-projects-datasets-prod.s3.eu-west-1.amazonaws.com/MetaMarketplaceMLEng/images/912bb259-3ad9-457b-9db1-ce1da9016057.jpg'\n",
    "\n",
    "response = requests.get(url)\n",
    "with open('Image.jpg', 'wb') as f:\n",
    "    f.write(response.content)"
   ]
  }
 ],
 "metadata": {
  "interpreter": {
   "hash": "f5283efd964521479c1e2675867ad3fd27fa7e3df3e3049d84d50d2b95e92885"
  },
  "kernelspec": {
   "display_name": "Python 3.9.10 ('test')",
   "language": "python",
   "name": "python3"
  },
  "language_info": {
   "codemirror_mode": {
    "name": "ipython",
    "version": 3
   },
   "file_extension": ".py",
   "mimetype": "text/x-python",
   "name": "python",
   "nbconvert_exporter": "python",
   "pygments_lexer": "ipython3",
   "version": "3.9.10"
  },
  "orig_nbformat": 4
 },
 "nbformat": 4,
 "nbformat_minor": 2
}
