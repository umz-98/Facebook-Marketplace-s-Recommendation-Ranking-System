{
 "cells": [
  {
   "cell_type": "code",
   "execution_count": 7,
   "metadata": {},
   "outputs": [
    {
     "name": "stderr",
     "output_type": "stream",
     "text": [
      "/var/folders/g2/zwqkmzwj2vs3pv8rydkch4m40000gn/T/ipykernel_9325/1015568029.py:8: DeprecationWarning: ANTIALIAS is deprecated and will be removed in Pillow 10 (2023-07-01). Use Resampling.LANCZOS instead.\n",
      "  im = im.resize(new_image_size, Image.ANTIALIAS)\n"
     ]
    }
   ],
   "source": [
    "from PIL import Image\n",
    "import os\n",
    "\n",
    "def resize_image(final_size, im):\n",
    "    size = im.size\n",
    "    ratio = float(final_size) / max(size)\n",
    "    new_image_size = tuple([int(x*ratio) for x in size])\n",
    "    im = im.resize(new_image_size, Image.ANTIALIAS)\n",
    "    new_im = Image.new(\"RGB\", (final_size, final_size))\n",
    "    new_im.paste(im, ((final_size-new_image_size[0])//2, (final_size-new_image_size[1])//2))\n",
    "    return new_im\n",
    "\n",
    "if __name__ == '__main__':\n",
    "    path = \"Images/\"\n",
    "    dirs = os.listdir(path)\n",
    "    final_size = 512\n",
    "    for n, item in enumerate(dirs[:5], 1):\n",
    "        im = Image.open('Images/' + item)\n",
    "        new_im = resize_image(final_size, im)\n",
    "        new_im.save(f'Cleaned_Images/{n}_resized.jpg')"
   ]
  },
  {
   "cell_type": "code",
   "execution_count": 19,
   "metadata": {},
   "outputs": [],
   "source": [
    "import requests\n",
    "url = 'https://aicore-projects-datasets-prod.s3.eu-west-1.amazonaws.com/MetaMarketplaceMLEng/images/912bb259-3ad9-457b-9db1-ce1da9016057.jpg'\n",
    "\n",
    "response = requests.get(url)\n",
    "with open('Image.jpg', 'wb') as f:\n",
    "    f.write(response.content)"
   ]
  },
  {
   "cell_type": "code",
   "execution_count": 19,
   "metadata": {},
   "outputs": [
    {
     "name": "stdout",
     "output_type": "stream",
     "text": [
      "12668\n"
     ]
    },
    {
     "ename": "UnidentifiedImageError",
     "evalue": "cannot identify image file 'Images/Links.csv'",
     "output_type": "error",
     "traceback": [
      "\u001b[0;31m---------------------------------------------------------------------------\u001b[0m",
      "\u001b[0;31mUnidentifiedImageError\u001b[0m                    Traceback (most recent call last)",
      "\u001b[1;32m/Users/FKhan/Documents/Aicore/Facebook-Marketplace-s-Recommendation-Ranking-System/Facebook-Marketplace-s-Recommendation-Ranking-System/Cleaning_images.ipynb Cell 4'\u001b[0m in \u001b[0;36m<module>\u001b[0;34m\u001b[0m\n\u001b[1;32m     <a href='vscode-notebook-cell:/Users/FKhan/Documents/Aicore/Facebook-Marketplace-s-Recommendation-Ranking-System/Facebook-Marketplace-s-Recommendation-Ranking-System/Cleaning_images.ipynb#W3sZmlsZQ%3D%3D?line=20'>21</a>\u001b[0m \u001b[39mfor\u001b[39;00m n, item \u001b[39min\u001b[39;00m \u001b[39menumerate\u001b[39m(dirs, \u001b[39m1\u001b[39m):\n\u001b[1;32m     <a href='vscode-notebook-cell:/Users/FKhan/Documents/Aicore/Facebook-Marketplace-s-Recommendation-Ranking-System/Facebook-Marketplace-s-Recommendation-Ranking-System/Cleaning_images.ipynb#W3sZmlsZQ%3D%3D?line=21'>22</a>\u001b[0m     filename\u001b[39m=\u001b[39m\u001b[39mstr\u001b[39m(item)\n\u001b[0;32m---> <a href='vscode-notebook-cell:/Users/FKhan/Documents/Aicore/Facebook-Marketplace-s-Recommendation-Ranking-System/Facebook-Marketplace-s-Recommendation-Ranking-System/Cleaning_images.ipynb#W3sZmlsZQ%3D%3D?line=22'>23</a>\u001b[0m     im \u001b[39m=\u001b[39m Image\u001b[39m.\u001b[39;49mopen(\u001b[39m'\u001b[39;49m\u001b[39mImages/\u001b[39;49m\u001b[39m'\u001b[39;49m \u001b[39m+\u001b[39;49m item)\n\u001b[1;32m     <a href='vscode-notebook-cell:/Users/FKhan/Documents/Aicore/Facebook-Marketplace-s-Recommendation-Ranking-System/Facebook-Marketplace-s-Recommendation-Ranking-System/Cleaning_images.ipynb#W3sZmlsZQ%3D%3D?line=23'>24</a>\u001b[0m     new_im \u001b[39m=\u001b[39m resize_image(final_size, im)\n\u001b[1;32m     <a href='vscode-notebook-cell:/Users/FKhan/Documents/Aicore/Facebook-Marketplace-s-Recommendation-Ranking-System/Facebook-Marketplace-s-Recommendation-Ranking-System/Cleaning_images.ipynb#W3sZmlsZQ%3D%3D?line=24'>25</a>\u001b[0m     new_im\u001b[39m.\u001b[39msave(\u001b[39mf\u001b[39m\u001b[39m'\u001b[39m\u001b[39mCleaned_Images/\u001b[39m\u001b[39m'\u001b[39m \u001b[39m+\u001b[39m item)\n",
      "File \u001b[0;32m~/Downloads/miniconda3/envs/test/lib/python3.9/site-packages/PIL/Image.py:3123\u001b[0m, in \u001b[0;36mopen\u001b[0;34m(fp, mode, formats)\u001b[0m\n\u001b[1;32m   <a href='file:///Users/FKhan/Downloads/miniconda3/envs/test/lib/python3.9/site-packages/PIL/Image.py?line=3120'>3121</a>\u001b[0m \u001b[39mfor\u001b[39;00m message \u001b[39min\u001b[39;00m accept_warnings:\n\u001b[1;32m   <a href='file:///Users/FKhan/Downloads/miniconda3/envs/test/lib/python3.9/site-packages/PIL/Image.py?line=3121'>3122</a>\u001b[0m     warnings\u001b[39m.\u001b[39mwarn(message)\n\u001b[0;32m-> <a href='file:///Users/FKhan/Downloads/miniconda3/envs/test/lib/python3.9/site-packages/PIL/Image.py?line=3122'>3123</a>\u001b[0m \u001b[39mraise\u001b[39;00m UnidentifiedImageError(\n\u001b[1;32m   <a href='file:///Users/FKhan/Downloads/miniconda3/envs/test/lib/python3.9/site-packages/PIL/Image.py?line=3123'>3124</a>\u001b[0m     \u001b[39m\"\u001b[39m\u001b[39mcannot identify image file \u001b[39m\u001b[39m%r\u001b[39;00m\u001b[39m\"\u001b[39m \u001b[39m%\u001b[39m (filename \u001b[39mif\u001b[39;00m filename \u001b[39melse\u001b[39;00m fp)\n\u001b[1;32m   <a href='file:///Users/FKhan/Downloads/miniconda3/envs/test/lib/python3.9/site-packages/PIL/Image.py?line=3124'>3125</a>\u001b[0m )\n",
      "\u001b[0;31mUnidentifiedImageError\u001b[0m: cannot identify image file 'Images/Links.csv'"
     ]
    }
   ],
   "source": [
    "from PIL import Image\n",
    "import os\n",
    "\n",
    "def resize_image(final_size, im):\n",
    "    size = im.size\n",
    "    ratio = float(final_size) / max(size)\n",
    "    new_image_size = tuple([int(x*ratio) for x in size])\n",
    "    im = im.resize(new_image_size, Image.Resampling.LANCZOS)\n",
    "    new_im = Image.new(\"RGB\", (final_size, final_size))\n",
    "    new_im.paste(im, ((final_size-new_image_size[0])//2, (final_size-new_image_size[1])//2))\n",
    "    return new_im\n",
    "\n",
    "if __name__ == '__main__':\n",
    "        path = \"Images/\"\n",
    "        dirs = os.listdir(path)\n",
    "        print(len(dirs))\n",
    "        final_size = 512\n",
    "        if os.path.exists('Images/')==False:\n",
    "            os.makedirs('Images/')\n",
    "\n",
    "        for n, item in enumerate(dirs, 1):\n",
    "            filename=str(item)\n",
    "            im = Image.open('Images/' + item)\n",
    "            new_im = resize_image(final_size, im)\n",
    "            new_im.save(f'Cleaned_Images/' + item)"
   ]
  }
 ],
 "metadata": {
  "interpreter": {
   "hash": "f5283efd964521479c1e2675867ad3fd27fa7e3df3e3049d84d50d2b95e92885"
  },
  "kernelspec": {
   "display_name": "Python 3.9.10 ('test')",
   "language": "python",
   "name": "python3"
  },
  "language_info": {
   "codemirror_mode": {
    "name": "ipython",
    "version": 3
   },
   "file_extension": ".py",
   "mimetype": "text/x-python",
   "name": "python",
   "nbconvert_exporter": "python",
   "pygments_lexer": "ipython3",
   "version": "3.9.10"
  },
  "orig_nbformat": 4
 },
 "nbformat": 4,
 "nbformat_minor": 2
}
