{
 "cells": [
  {
   "cell_type": "code",
   "execution_count": 6,
   "metadata": {},
   "outputs": [
    {
     "name": "stdout",
     "output_type": "stream",
     "text": [
      "      Unnamed: 0                                    id  \\\n",
      "0              0  243809c0-9cfc-4486-ad12-3b7a16605ba9   \n",
      "1              1  1c58d3f9-8b93-47ea-9415-204fcc2a22e6   \n",
      "2              2  860673f1-57f6-47ba-8d2f-13f9e05b8f9a   \n",
      "3              3  59948726-29be-4b35-ade5-bb2fd7331856   \n",
      "4              4  16dbc860-696e-4cda-93f6-4dd4926573fb   \n",
      "...          ...                                   ...   \n",
      "7151        7151  c4148656-78a9-4f3e-b393-134fdc5ef900   \n",
      "7152        7152  564e3411-768d-4250-a624-b119d696f103   \n",
      "7153        7153  2b0a652b-46a2-4297-b619-5efeeb222787   \n",
      "7154        7154  719fd40a-870e-4144-b324-55dff2e66fb4   \n",
      "7155        7155  86d1806b-5575-4a7e-9160-f24f12be6c95   \n",
      "\n",
      "                                           product_name  \\\n",
      "0     Mirror wall art | in Wokingham, Berkshire | Gu...   \n",
      "1     Stainless Steel Food Steamer | in Inverness, H...   \n",
      "2     Sun loungers | in Skegness, Lincolnshire | Gum...   \n",
      "3     Coffee side table from Ammunition ammo box hai...   \n",
      "4     Modern Shannon Sofa for sale at low cost | in ...   \n",
      "...                                                 ...   \n",
      "7151  Sony PlayStation VR Move Bundle | in Acocks Gr...   \n",
      "7152  Playstation VR V2 Bundle | in Acocks Green, We...   \n",
      "7153  Oculus quest 2 256gb | in Montrose, Angus | Gu...   \n",
      "7154  Logitech driving force shifter | in Carrickfer...   \n",
      "7155  20 GAMES & NINTENDO SWITCH BUNDLE | in Poole, ...   \n",
      "\n",
      "                                               category  \\\n",
      "0     Home & Garden / Dining, Living Room Furniture ...   \n",
      "1                 Home & Garden / Other Household Goods   \n",
      "2     Home & Garden / Garden & Patio / Outdoor Setti...   \n",
      "3     Home & Garden / Dining, Living Room Furniture ...   \n",
      "4     Home & Garden / Dining, Living Room Furniture ...   \n",
      "...                                                 ...   \n",
      "7151  Video Games & Consoles / Consoles / PS4 (Sony ...   \n",
      "7152  Video Games & Consoles / Consoles / PS4 (Sony ...   \n",
      "7153  Video Games & Consoles / Other Video Games & C...   \n",
      "7154  Video Games & Consoles / Video Game Accessorie...   \n",
      "7155                     Video Games & Consoles / Games   \n",
      "\n",
      "                                    product_description    price  \\\n",
      "0     Mirror wall art. Posted by Nisha in Dining, Li...    £5.00   \n",
      "1     Morphy Richard’s (model no 48755)Stainless ste...   £20.00   \n",
      "2     I have 2 of these - collection only as I don’t...   £20.00   \n",
      "3     Great reclaimed army ammunition box used as co...  £115.00   \n",
      "4     New Design Shannon Corner sofa  5 Seater Avail...  £450.00   \n",
      "...                                                 ...      ...   \n",
      "7151  Sony PlayStation VR Move Bundle353CASH ON COLL...  £260.00   \n",
      "7152  Playstation VR V2 Bundle355CASH ON COLLECTION ...  £235.00   \n",
      "7153  Pick up only £250Comes with two pistols stocks...  £250.00   \n",
      "7154  Bought at christmas from currys retailing at £...   £30.00   \n",
      "7155  Nintendo Switch console only used 2/3 times. A...  £450.00   \n",
      "\n",
      "                          location  \\\n",
      "0             Wokingham, Berkshire   \n",
      "1              Inverness, Highland   \n",
      "2           Skegness, Lincolnshire   \n",
      "3               Radstock, Somerset   \n",
      "4                Delph, Manchester   \n",
      "...                            ...   \n",
      "7151   Acocks Green, West Midlands   \n",
      "7152   Acocks Green, West Midlands   \n",
      "7153               Montrose, Angus   \n",
      "7154  Carrickfergus, County Antrim   \n",
      "7155                 Poole, Dorset   \n",
      "\n",
      "                                                    url     page_id  \\\n",
      "0     https://www.gumtree.com/p/mirrors-clocks-ornam...  1426704584   \n",
      "1     https://www.gumtree.com/p/other-household-good...  1426704579   \n",
      "2     https://www.gumtree.com/p/outdoor-settings-fur...  1426704576   \n",
      "3     https://www.gumtree.com/p/other-dining-living-...  1426704575   \n",
      "4     https://www.gumtree.com/p/sofas/modern-shannon...  1426704570   \n",
      "...                                                 ...         ...   \n",
      "7151  https://www.gumtree.com/p/ps4/sony-playstation...  1422159237   \n",
      "7152  https://www.gumtree.com/p/ps4/playstation-vr-v...  1422159464   \n",
      "7153  https://www.gumtree.com/p/other-video-games/oc...  1426668818   \n",
      "7154  https://www.gumtree.com/p/other-video-game-acc...  1426699715   \n",
      "7155  https://www.gumtree.com/p/video-games/20-games...  1426699649   \n",
      "\n",
      "     create_time  \n",
      "0     2022-02-26  \n",
      "1     2022-02-26  \n",
      "2     2022-02-26  \n",
      "3     2022-02-26  \n",
      "4     2022-02-26  \n",
      "...          ...  \n",
      "7151  2022-02-28  \n",
      "7152  2022-02-28  \n",
      "7153  2022-02-28  \n",
      "7154  2022-02-28  \n",
      "7155  2022-02-28  \n",
      "\n",
      "[7156 rows x 10 columns]\n"
     ]
    }
   ],
   "source": [
    "import pandas as pd\n",
    "df = pd.read_csv (r'/Users/FKhan/Downloads/miniconda3/Products.csv',lineterminator='\\n')\n",
    "print (df)"
   ]
  },
  {
   "cell_type": "code",
   "execution_count": 7,
   "metadata": {},
   "outputs": [],
   "source": [
    "from sklearn.feature_extraction.text import CountVectorizer\n",
    "from sklearn.model_selection import cross_val_score, cross_val_predict\n",
    "from sklearn import metrics\n",
    "from sklearn.model_selection import train_test_split\n",
    "from sklearn import linear_model\n",
    "from sklearn.linear_model import LogisticRegression"
   ]
  },
  {
   "cell_type": "code",
   "execution_count": null,
   "metadata": {},
   "outputs": [],
   "source": [
    "cvec = CountVectorizer()\n",
    "X = c.job_title\n",
    "y = c.dumsal\n",
    "X_train, X_test, y_test = train_test_split(X, y, test_size=0.33)"
   ]
  },
  {
   "cell_type": "code",
   "execution_count": null,
   "metadata": {},
   "outputs": [],
   "source": [
    "cvec = CountVectorizer(stop_words='english').fit(X_train)\n",
    "df_train = pd.DataFrame(cvec.transform(X_train).todense(),\n",
    "columns=cvec.get_feature_names())\n"
   ]
  },
  {
   "cell_type": "code",
   "execution_count": null,
   "metadata": {},
   "outputs": [],
   "source": [
    "from PIL import Image"
   ]
  }
 ],
 "metadata": {
  "interpreter": {
   "hash": "f5283efd964521479c1e2675867ad3fd27fa7e3df3e3049d84d50d2b95e92885"
  },
  "kernelspec": {
   "display_name": "Python 3.9.10 ('test')",
   "language": "python",
   "name": "python3"
  },
  "language_info": {
   "codemirror_mode": {
    "name": "ipython",
    "version": 3
   },
   "file_extension": ".py",
   "mimetype": "text/x-python",
   "name": "python",
   "nbconvert_exporter": "python",
   "pygments_lexer": "ipython3",
   "version": "3.9.10"
  },
  "orig_nbformat": 4
 },
 "nbformat": 4,
 "nbformat_minor": 2
}
